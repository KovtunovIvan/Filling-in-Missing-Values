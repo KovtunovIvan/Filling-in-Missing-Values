{
 "cells": [
  {
   "cell_type": "markdown",
   "id": "33602a09",
   "metadata": {},
   "source": [
    "# Эксперимент №7(соревнование kaggle)\n",
    "https://www.kaggle.com/competitions/physical-activity-clustering"
   ]
  },
  {
   "cell_type": "code",
   "execution_count": 33,
   "id": "1d5fc261-dc0e-43a7-8ac0-6861e8fbd19c",
   "metadata": {},
   "outputs": [],
   "source": [
    "import sys\n",
    "import os\n",
    "\n",
    "sys.path.append('..')\n",
    "folder_path = os.path.abspath(os.path.join(os.getcwd(), \"../../evaluate\"))\n",
    "sys.path.append(folder_path)"
   ]
  },
  {
   "cell_type": "code",
   "execution_count": 34,
   "id": "4afa8437",
   "metadata": {},
   "outputs": [],
   "source": [
    "import pandas as pd\n",
    "import seaborn as sns\n",
    "import numpy as np\n",
    "import matplotlib.pyplot as plt\n",
    "from tools import deletion_features\n",
    "from tools import balancing\n",
    "from tools import encoder\n",
    "from tools import scaling\n",
    "from Alg_CatBoost import CatBoostRegressor_fill \n",
    "from Alg_DecisionTree import DecisionTreeRegressor_fill\n",
    "from Alg_Interpolate import interpolate_fill\n",
    "from Alg_KNNImputer import KNNImputer_fill\n",
    "from Alg_LinearRegression import LinearRegression_fill\n",
    "from Alg_max import max_fill\n",
    "from Alg_mean import mean_fill \n",
    "from Alg_median import median_fill\n",
    "from Alg_min import min_fill\n",
    "from Alg_RandomForestRegressor import RandomForestRegressor_fill\n",
    "from Alg_SVR import SVR_fill\n",
    "from Alg_XGBRegressor import XGBRegressor_fill\n",
    "import results_metrics\n",
    "import results_metrics_visualization"
   ]
  },
  {
   "cell_type": "code",
   "execution_count": 35,
   "id": "51c6b35e-09e8-4c44-a889-7516365c60e0",
   "metadata": {},
   "outputs": [],
   "source": [
    "df = pd.read_csv('./Data/Physical_Activity_Monitoring_unlabeled.csv')"
   ]
  },
  {
   "cell_type": "code",
   "execution_count": 36,
   "id": "ef11016b",
   "metadata": {},
   "outputs": [
    {
     "data": {
      "text/plain": [
       "(534601, 53)"
      ]
     },
     "execution_count": 36,
     "metadata": {},
     "output_type": "execute_result"
    }
   ],
   "source": [
    "df.shape"
   ]
  },
  {
   "cell_type": "markdown",
   "id": "b8aaf524",
   "metadata": {
    "tags": []
   },
   "source": [
    "# 1. Исследуем данные"
   ]
  },
  {
   "cell_type": "code",
   "execution_count": 37,
   "id": "56d10a70",
   "metadata": {},
   "outputs": [
    {
     "data": {
      "text/html": [
       "<div>\n",
       "<style scoped>\n",
       "    .dataframe tbody tr th:only-of-type {\n",
       "        vertical-align: middle;\n",
       "    }\n",
       "\n",
       "    .dataframe tbody tr th {\n",
       "        vertical-align: top;\n",
       "    }\n",
       "\n",
       "    .dataframe thead th {\n",
       "        text-align: right;\n",
       "    }\n",
       "</style>\n",
       "<table border=\"1\" class=\"dataframe\">\n",
       "  <thead>\n",
       "    <tr style=\"text-align: right;\">\n",
       "      <th></th>\n",
       "      <th>timestamp</th>\n",
       "      <th>handTemperature</th>\n",
       "      <th>handAcc16_1</th>\n",
       "      <th>handAcc16_2</th>\n",
       "      <th>handAcc16_3</th>\n",
       "      <th>handAcc6_1</th>\n",
       "      <th>handAcc6_2</th>\n",
       "      <th>handAcc6_3</th>\n",
       "      <th>handGyro1</th>\n",
       "      <th>handGyro2</th>\n",
       "      <th>...</th>\n",
       "      <th>ankleGyro2</th>\n",
       "      <th>ankleGyro3</th>\n",
       "      <th>ankleMagne1</th>\n",
       "      <th>ankleMagne2</th>\n",
       "      <th>ankleMagne3</th>\n",
       "      <th>ankleOrientation1</th>\n",
       "      <th>ankleOrientation2</th>\n",
       "      <th>ankleOrientation3</th>\n",
       "      <th>ankleOrientation4</th>\n",
       "      <th>subject_id</th>\n",
       "    </tr>\n",
       "  </thead>\n",
       "  <tbody>\n",
       "    <tr>\n",
       "      <th>0</th>\n",
       "      <td>252.75</td>\n",
       "      <td>34.8750</td>\n",
       "      <td>0.902847</td>\n",
       "      <td>7.45872</td>\n",
       "      <td>6.032490</td>\n",
       "      <td>1.006100</td>\n",
       "      <td>7.44575</td>\n",
       "      <td>6.303650</td>\n",
       "      <td>-0.021952</td>\n",
       "      <td>0.004114</td>\n",
       "      <td>...</td>\n",
       "      <td>-0.025606</td>\n",
       "      <td>0.030239</td>\n",
       "      <td>-14.5447</td>\n",
       "      <td>27.3336</td>\n",
       "      <td>-5.76620</td>\n",
       "      <td>0.206416</td>\n",
       "      <td>0.348212</td>\n",
       "      <td>0.763201</td>\n",
       "      <td>-0.503652</td>\n",
       "      <td>5</td>\n",
       "    </tr>\n",
       "    <tr>\n",
       "      <th>1</th>\n",
       "      <td>3652.45</td>\n",
       "      <td>29.7500</td>\n",
       "      <td>-4.069330</td>\n",
       "      <td>3.76168</td>\n",
       "      <td>8.279720</td>\n",
       "      <td>-5.972500</td>\n",
       "      <td>3.22273</td>\n",
       "      <td>6.908970</td>\n",
       "      <td>0.116054</td>\n",
       "      <td>-0.375968</td>\n",
       "      <td>...</td>\n",
       "      <td>-0.670163</td>\n",
       "      <td>1.786200</td>\n",
       "      <td>-32.8257</td>\n",
       "      <td>-15.7719</td>\n",
       "      <td>-1.31395</td>\n",
       "      <td>0.578332</td>\n",
       "      <td>-0.566734</td>\n",
       "      <td>0.405888</td>\n",
       "      <td>-0.423791</td>\n",
       "      <td>2</td>\n",
       "    </tr>\n",
       "    <tr>\n",
       "      <th>2</th>\n",
       "      <td>504.76</td>\n",
       "      <td>34.3750</td>\n",
       "      <td>-2.007540</td>\n",
       "      <td>-9.60180</td>\n",
       "      <td>0.773674</td>\n",
       "      <td>-1.803500</td>\n",
       "      <td>-9.58937</td>\n",
       "      <td>1.073680</td>\n",
       "      <td>0.020131</td>\n",
       "      <td>0.042189</td>\n",
       "      <td>...</td>\n",
       "      <td>-0.009741</td>\n",
       "      <td>-0.006579</td>\n",
       "      <td>-18.8171</td>\n",
       "      <td>16.3089</td>\n",
       "      <td>25.29280</td>\n",
       "      <td>0.139776</td>\n",
       "      <td>0.676586</td>\n",
       "      <td>0.393796</td>\n",
       "      <td>0.606316</td>\n",
       "      <td>8</td>\n",
       "    </tr>\n",
       "    <tr>\n",
       "      <th>3</th>\n",
       "      <td>2801.61</td>\n",
       "      <td>31.9375</td>\n",
       "      <td>-13.262200</td>\n",
       "      <td>5.85443</td>\n",
       "      <td>0.899334</td>\n",
       "      <td>-13.611500</td>\n",
       "      <td>5.91511</td>\n",
       "      <td>0.840377</td>\n",
       "      <td>1.715630</td>\n",
       "      <td>-0.050492</td>\n",
       "      <td>...</td>\n",
       "      <td>-0.163470</td>\n",
       "      <td>-3.495570</td>\n",
       "      <td>-26.7418</td>\n",
       "      <td>34.3566</td>\n",
       "      <td>21.32740</td>\n",
       "      <td>0.416303</td>\n",
       "      <td>0.783387</td>\n",
       "      <td>0.306464</td>\n",
       "      <td>0.345075</td>\n",
       "      <td>2</td>\n",
       "    </tr>\n",
       "    <tr>\n",
       "      <th>4</th>\n",
       "      <td>441.01</td>\n",
       "      <td>33.5000</td>\n",
       "      <td>-0.013940</td>\n",
       "      <td>8.66540</td>\n",
       "      <td>4.398210</td>\n",
       "      <td>0.144153</td>\n",
       "      <td>8.56816</td>\n",
       "      <td>4.822200</td>\n",
       "      <td>-0.006938</td>\n",
       "      <td>-0.007383</td>\n",
       "      <td>...</td>\n",
       "      <td>-0.028172</td>\n",
       "      <td>-0.003737</td>\n",
       "      <td>-17.7798</td>\n",
       "      <td>-3.9981</td>\n",
       "      <td>10.99500</td>\n",
       "      <td>0.171133</td>\n",
       "      <td>-0.748343</td>\n",
       "      <td>0.252988</td>\n",
       "      <td>-0.588807</td>\n",
       "      <td>6</td>\n",
       "    </tr>\n",
       "  </tbody>\n",
       "</table>\n",
       "<p>5 rows × 53 columns</p>\n",
       "</div>"
      ],
      "text/plain": [
       "   timestamp  handTemperature  handAcc16_1  handAcc16_2  handAcc16_3  \\\n",
       "0     252.75          34.8750     0.902847      7.45872     6.032490   \n",
       "1    3652.45          29.7500    -4.069330      3.76168     8.279720   \n",
       "2     504.76          34.3750    -2.007540     -9.60180     0.773674   \n",
       "3    2801.61          31.9375   -13.262200      5.85443     0.899334   \n",
       "4     441.01          33.5000    -0.013940      8.66540     4.398210   \n",
       "\n",
       "   handAcc6_1  handAcc6_2  handAcc6_3  handGyro1  handGyro2  ...  ankleGyro2  \\\n",
       "0    1.006100     7.44575    6.303650  -0.021952   0.004114  ...   -0.025606   \n",
       "1   -5.972500     3.22273    6.908970   0.116054  -0.375968  ...   -0.670163   \n",
       "2   -1.803500    -9.58937    1.073680   0.020131   0.042189  ...   -0.009741   \n",
       "3  -13.611500     5.91511    0.840377   1.715630  -0.050492  ...   -0.163470   \n",
       "4    0.144153     8.56816    4.822200  -0.006938  -0.007383  ...   -0.028172   \n",
       "\n",
       "   ankleGyro3  ankleMagne1  ankleMagne2  ankleMagne3  ankleOrientation1  \\\n",
       "0    0.030239     -14.5447      27.3336     -5.76620           0.206416   \n",
       "1    1.786200     -32.8257     -15.7719     -1.31395           0.578332   \n",
       "2   -0.006579     -18.8171      16.3089     25.29280           0.139776   \n",
       "3   -3.495570     -26.7418      34.3566     21.32740           0.416303   \n",
       "4   -0.003737     -17.7798      -3.9981     10.99500           0.171133   \n",
       "\n",
       "   ankleOrientation2  ankleOrientation3  ankleOrientation4  subject_id  \n",
       "0           0.348212           0.763201          -0.503652           5  \n",
       "1          -0.566734           0.405888          -0.423791           2  \n",
       "2           0.676586           0.393796           0.606316           8  \n",
       "3           0.783387           0.306464           0.345075           2  \n",
       "4          -0.748343           0.252988          -0.588807           6  \n",
       "\n",
       "[5 rows x 53 columns]"
      ]
     },
     "execution_count": 37,
     "metadata": {},
     "output_type": "execute_result"
    }
   ],
   "source": [
    "df.head()"
   ]
  },
  {
   "cell_type": "code",
   "execution_count": 38,
   "id": "aa5b3152",
   "metadata": {},
   "outputs": [
    {
     "data": {
      "text/plain": [
       "timestamp            float64\n",
       "handTemperature      float64\n",
       "handAcc16_1          float64\n",
       "handAcc16_2          float64\n",
       "handAcc16_3          float64\n",
       "handAcc6_1           float64\n",
       "handAcc6_2           float64\n",
       "handAcc6_3           float64\n",
       "handGyro1            float64\n",
       "handGyro2            float64\n",
       "handGyro3            float64\n",
       "handMagne1           float64\n",
       "handMagne2           float64\n",
       "handMagne3           float64\n",
       "handOrientation1     float64\n",
       "handOrientation2     float64\n",
       "handOrientation3     float64\n",
       "handOrientation4     float64\n",
       "chestTemperature     float64\n",
       "chestAcc16_1         float64\n",
       "chestAcc16_2         float64\n",
       "chestAcc16_3         float64\n",
       "chestAcc6_1          float64\n",
       "chestAcc6_2          float64\n",
       "chestAcc6_3          float64\n",
       "chestGyro1           float64\n",
       "chestGyro2           float64\n",
       "chestGyro3           float64\n",
       "chestMagne1          float64\n",
       "chestMagne2          float64\n",
       "chestMagne3          float64\n",
       "chestOrientation1    float64\n",
       "chestOrientation2    float64\n",
       "chestOrientation3    float64\n",
       "chestOrientation4    float64\n",
       "ankleTemperature     float64\n",
       "ankleAcc16_1         float64\n",
       "ankleAcc16_2         float64\n",
       "ankleAcc16_3         float64\n",
       "ankleAcc6_1          float64\n",
       "ankleAcc6_2          float64\n",
       "ankleAcc6_3          float64\n",
       "ankleGyro1           float64\n",
       "ankleGyro2           float64\n",
       "ankleGyro3           float64\n",
       "ankleMagne1          float64\n",
       "ankleMagne2          float64\n",
       "ankleMagne3          float64\n",
       "ankleOrientation1    float64\n",
       "ankleOrientation2    float64\n",
       "ankleOrientation3    float64\n",
       "ankleOrientation4    float64\n",
       "subject_id             int64\n",
       "dtype: object"
      ]
     },
     "execution_count": 38,
     "metadata": {},
     "output_type": "execute_result"
    }
   ],
   "source": [
    "#проверим данные на типы\n",
    "df.dtypes"
   ]
  },
  {
   "cell_type": "code",
   "execution_count": 39,
   "id": "e7bfcb27",
   "metadata": {},
   "outputs": [
    {
     "data": {
      "text/plain": [
       "timestamp               0\n",
       "handTemperature      4041\n",
       "handAcc16_1          4041\n",
       "handAcc16_2          4041\n",
       "handAcc16_3          4041\n",
       "handAcc6_1           4041\n",
       "handAcc6_2           4041\n",
       "handAcc6_3           4041\n",
       "handGyro1            4041\n",
       "handGyro2            4041\n",
       "handGyro3            4041\n",
       "handMagne1           4041\n",
       "handMagne2           4041\n",
       "handMagne3           4041\n",
       "handOrientation1     4041\n",
       "handOrientation2     4041\n",
       "handOrientation3     4041\n",
       "handOrientation4     4041\n",
       "chestTemperature      809\n",
       "chestAcc16_1          809\n",
       "chestAcc16_2          809\n",
       "chestAcc16_3          809\n",
       "chestAcc6_1           809\n",
       "chestAcc6_2           809\n",
       "chestAcc6_3           809\n",
       "chestGyro1            809\n",
       "chestGyro2            809\n",
       "chestGyro3            809\n",
       "chestMagne1           809\n",
       "chestMagne2           809\n",
       "chestMagne3           809\n",
       "chestOrientation1     809\n",
       "chestOrientation2     809\n",
       "chestOrientation3     809\n",
       "chestOrientation4     809\n",
       "ankleTemperature     2546\n",
       "ankleAcc16_1         2546\n",
       "ankleAcc16_2         2546\n",
       "ankleAcc16_3         2546\n",
       "ankleAcc6_1          2546\n",
       "ankleAcc6_2          2546\n",
       "ankleAcc6_3          2546\n",
       "ankleGyro1           2546\n",
       "ankleGyro2           2546\n",
       "ankleGyro3           2546\n",
       "ankleMagne1          2546\n",
       "ankleMagne2          2546\n",
       "ankleMagne3          2546\n",
       "ankleOrientation1    2546\n",
       "ankleOrientation2    2546\n",
       "ankleOrientation3    2546\n",
       "ankleOrientation4    2546\n",
       "subject_id              0\n",
       "dtype: int64"
      ]
     },
     "execution_count": 39,
     "metadata": {},
     "output_type": "execute_result"
    }
   ],
   "source": [
    "#проверим на пропуски\n",
    "df.isna().sum()"
   ]
  },
  {
   "cell_type": "code",
   "execution_count": 40,
   "id": "6fadf964",
   "metadata": {},
   "outputs": [
    {
     "data": {
      "text/plain": [
       "Index(['timestamp', 'handTemperature', 'handAcc16_1', 'handAcc16_2',\n",
       "       'handAcc16_3', 'handAcc6_1', 'handAcc6_2', 'handAcc6_3', 'handGyro1',\n",
       "       'handGyro2', 'handGyro3', 'handMagne1', 'handMagne2', 'handMagne3',\n",
       "       'handOrientation1', 'handOrientation2', 'handOrientation3',\n",
       "       'handOrientation4', 'chestTemperature', 'chestAcc16_1', 'chestAcc16_2',\n",
       "       'chestAcc16_3', 'chestAcc6_1', 'chestAcc6_2', 'chestAcc6_3',\n",
       "       'chestGyro1', 'chestGyro2', 'chestGyro3', 'chestMagne1', 'chestMagne2',\n",
       "       'chestMagne3', 'chestOrientation1', 'chestOrientation2',\n",
       "       'chestOrientation3', 'chestOrientation4', 'ankleTemperature',\n",
       "       'ankleAcc16_1', 'ankleAcc16_2', 'ankleAcc16_3', 'ankleAcc6_1',\n",
       "       'ankleAcc6_2', 'ankleAcc6_3', 'ankleGyro1', 'ankleGyro2', 'ankleGyro3',\n",
       "       'ankleMagne1', 'ankleMagne2', 'ankleMagne3', 'ankleOrientation1',\n",
       "       'ankleOrientation2', 'ankleOrientation3', 'ankleOrientation4',\n",
       "       'subject_id'],\n",
       "      dtype='object')"
      ]
     },
     "execution_count": 40,
     "metadata": {},
     "output_type": "execute_result"
    }
   ],
   "source": [
    "df.columns"
   ]
  },
  {
   "cell_type": "code",
   "execution_count": 41,
   "id": "76a6c7c5",
   "metadata": {},
   "outputs": [
    {
     "name": "stdout",
     "output_type": "stream",
     "text": [
      "53\n"
     ]
    }
   ],
   "source": [
    "print(len(df.columns))"
   ]
  },
  {
   "cell_type": "markdown",
   "id": "db73da87",
   "metadata": {
    "tags": []
   },
   "source": [
    "# 2.3. Устранение дубликатов"
   ]
  },
  {
   "cell_type": "code",
   "execution_count": 42,
   "id": "f647b883-eb73-4f4f-899b-729e9f28bd09",
   "metadata": {},
   "outputs": [
    {
     "data": {
      "text/plain": [
       "(534601, 53)"
      ]
     },
     "execution_count": 42,
     "metadata": {},
     "output_type": "execute_result"
    }
   ],
   "source": [
    "df.shape"
   ]
  },
  {
   "cell_type": "code",
   "execution_count": 43,
   "id": "81d96746",
   "metadata": {},
   "outputs": [
    {
     "data": {
      "text/plain": [
       "(534601, 53)"
      ]
     },
     "execution_count": 43,
     "metadata": {},
     "output_type": "execute_result"
    }
   ],
   "source": [
    "#проверяем наличие дубликатов и удаляем их\n",
    "data = df.drop_duplicates()\n",
    "data.shape"
   ]
  },
  {
   "cell_type": "markdown",
   "id": "d15fbbeb-d66e-407b-9b05-810bb82c3ab2",
   "metadata": {},
   "source": [
    "Проверяем на аномалии и устраняем их\n",
    "\n",
    "Информация об атрибутах:\n",
    "- LB - базовый уровень ЧСС (ударов в минуту)\n",
    "- AC - количество ускорений в секунду\n",
    "- FM - количество движений плода в секунду\n",
    "- UC - количество сокращений матки в секунду\n",
    "- DL - количество легких замедлений в секунду\n",
    "- DS - количество серьезных замедлений в секунду\n",
    "- DP - # длительных замедлений в секунду\n",
    "- ASTV - процент времени с аномальной краткосрочной изменчивостью\n",
    "- MSTV - среднее значение краткосрочной изменчивости\n",
    "- ALTV - процент времени с аномальной долговременной изменчивостью\n",
    "- MLTV - среднее значение долговременной изменчивости\n",
    "- Width - ширина гистограммы FHR\n",
    "- Min - минимум гистограммы FHR\n",
    "- Max — максимум гистограммы FHR\n",
    "- Nmax — количество пиков гистограммы\n",
    "- Nzeros — количество нулей гистограммы\n",
    "- Mode — режим гистограммы\n",
    "- Mean — среднее значение гистограммы\n",
    "- Median — медиана гистограммы\n",
    "- Variance — дисперсия гистограммы\n",
    "- Tendency — тенденция гистограммы\n",
    "- CLASS — код класса паттерна FHR (от 1 до 10)\n",
    "- NSP — код класса состояния плода (N = нормальное; S = подозрительное; P = патологическое)"
   ]
  },
  {
   "cell_type": "code",
   "execution_count": 44,
   "id": "6f2085ea-4452-4f69-a300-54ee3bff4892",
   "metadata": {},
   "outputs": [
    {
     "data": {
      "text/plain": [
       "Index(['timestamp', 'handTemperature', 'handAcc16_1', 'handAcc16_2',\n",
       "       'handAcc16_3', 'handAcc6_1', 'handAcc6_2', 'handAcc6_3', 'handGyro1',\n",
       "       'handGyro2', 'handGyro3', 'handMagne1', 'handMagne2', 'handMagne3',\n",
       "       'handOrientation1', 'handOrientation2', 'handOrientation3',\n",
       "       'handOrientation4', 'chestTemperature', 'chestAcc16_1', 'chestAcc16_2',\n",
       "       'chestAcc16_3', 'chestAcc6_1', 'chestAcc6_2', 'chestAcc6_3',\n",
       "       'chestGyro1', 'chestGyro2', 'chestGyro3', 'chestMagne1', 'chestMagne2',\n",
       "       'chestMagne3', 'chestOrientation1', 'chestOrientation2',\n",
       "       'chestOrientation3', 'chestOrientation4', 'ankleTemperature',\n",
       "       'ankleAcc16_1', 'ankleAcc16_2', 'ankleAcc16_3', 'ankleAcc6_1',\n",
       "       'ankleAcc6_2', 'ankleAcc6_3', 'ankleGyro1', 'ankleGyro2', 'ankleGyro3',\n",
       "       'ankleMagne1', 'ankleMagne2', 'ankleMagne3', 'ankleOrientation1',\n",
       "       'ankleOrientation2', 'ankleOrientation3', 'ankleOrientation4',\n",
       "       'subject_id'],\n",
       "      dtype='object')"
      ]
     },
     "execution_count": 44,
     "metadata": {},
     "output_type": "execute_result"
    }
   ],
   "source": [
    "col_name = data.columns\n",
    "col_name"
   ]
  },
  {
   "cell_type": "markdown",
   "id": "f30c7fd1",
   "metadata": {
    "tags": []
   },
   "source": [
    "# 2.5. Масштабирование данных"
   ]
  },
  {
   "cell_type": "markdown",
   "id": "37bfaf74",
   "metadata": {},
   "source": [
    "Произведем масштабирование данных"
   ]
  },
  {
   "cell_type": "code",
   "execution_count": 45,
   "id": "d95918d7",
   "metadata": {},
   "outputs": [],
   "source": [
    "df1 = scaling.data_scaling(data)"
   ]
  },
  {
   "cell_type": "code",
   "execution_count": 46,
   "id": "96b06e53-364f-47d8-ad79-b63d5ef9cdd8",
   "metadata": {},
   "outputs": [
    {
     "data": {
      "text/plain": [
       "(534601, 53)"
      ]
     },
     "execution_count": 46,
     "metadata": {},
     "output_type": "execute_result"
    }
   ],
   "source": [
    "df1.shape"
   ]
  },
  {
   "cell_type": "markdown",
   "id": "70e9dbc3",
   "metadata": {
    "tags": []
   },
   "source": [
    "# 3. Работаем с пропусками"
   ]
  },
  {
   "cell_type": "markdown",
   "id": "0e63e1d1",
   "metadata": {},
   "source": [
    "data - после предобработки данных был получен эталонный датасет с которым будет происходить сравнение по метрикам"
   ]
  },
  {
   "cell_type": "markdown",
   "id": "99d7ef54",
   "metadata": {},
   "source": [
    "# 3.2. Заполняем пропуски"
   ]
  },
  {
   "cell_type": "markdown",
   "id": "17d6fca2",
   "metadata": {},
   "source": [
    "#1. Заполним пропуски средним арифметическим значением по признаку"
   ]
  },
  {
   "cell_type": "code",
   "execution_count": 21,
   "id": "4d80233f",
   "metadata": {},
   "outputs": [],
   "source": [
    "df_mean_fill = mean_fill.mean_fill(df1)"
   ]
  },
  {
   "cell_type": "markdown",
   "id": "8ca597ee",
   "metadata": {},
   "source": [
    "#2. Заполним пропуски медианным значением по признаку"
   ]
  },
  {
   "cell_type": "code",
   "execution_count": 22,
   "id": "246ab47c",
   "metadata": {},
   "outputs": [],
   "source": [
    "df_median_fill = median_fill.median_fill(df1)"
   ]
  },
  {
   "cell_type": "markdown",
   "id": "79f91ead",
   "metadata": {},
   "source": [
    "#3. Заполним пропуски минимальным значением по признаку"
   ]
  },
  {
   "cell_type": "code",
   "execution_count": 23,
   "id": "566c2c89",
   "metadata": {},
   "outputs": [],
   "source": [
    "df_min_fill = min_fill.min_fill(df1)"
   ]
  },
  {
   "cell_type": "markdown",
   "id": "4d74c487",
   "metadata": {},
   "source": [
    "#4. Заполним пропуски максимальным значением по признаку"
   ]
  },
  {
   "cell_type": "code",
   "execution_count": 24,
   "id": "2f98f808",
   "metadata": {},
   "outputs": [],
   "source": [
    "df_max_fill = df_min_fill = max_fill.max_fill(df1)"
   ]
  },
  {
   "cell_type": "markdown",
   "id": "03a495f9",
   "metadata": {},
   "source": [
    "#5. Заполним пропуски используя интерполяцию"
   ]
  },
  {
   "cell_type": "code",
   "execution_count": 25,
   "id": "7bd18cd9",
   "metadata": {},
   "outputs": [],
   "source": [
    "df_interpolate_fill = interpolate_fill.interpolate_fill(df1)"
   ]
  },
  {
   "cell_type": "code",
   "execution_count": 47,
   "id": "1816598c-3e8e-42f2-8054-e2e98adb7e10",
   "metadata": {},
   "outputs": [],
   "source": [
    "df = df1"
   ]
  },
  {
   "cell_type": "code",
   "execution_count": 49,
   "id": "1abddc5e-9938-43bf-a816-277890828b1b",
   "metadata": {},
   "outputs": [
    {
     "data": {
      "text/plain": [
       "LinearRegression()"
      ]
     },
     "execution_count": 49,
     "metadata": {},
     "output_type": "execute_result"
    }
   ],
   "source": [
    "from sklearn.linear_model import LinearRegression\n",
    "import pandas as pd\n",
    "import random\n",
    "\n",
    "random.seed(42)\n",
    "\n",
    "col = df.loc[:, df.isna().sum() > 0].columns[0]\n",
    "\n",
    "# обучающей выборкой будут строки без пропусков\n",
    "train = df.dropna().copy()\n",
    "# тестовой (или вернее выборкой для заполнения пропусков)\n",
    "# будут те строки, в которых пропуски есть\n",
    "test = df[df[col].isna()].copy()\n",
    "\n",
    "# выясним индекс столбца с пропусками\n",
    "col_index = df.columns.get_loc(col)\n",
    "\n",
    "# разделим на features и target\n",
    "y_train = train[col]\n",
    "X_train = train.drop(col, axis=1)\n",
    "\n",
    "# из \"тестовой\" выборки удалим столбец с пропусками\n",
    "test = test.drop(col, axis=1)\n",
    "\n",
    "# обучим модель линейной регрессии\n",
    "model = LinearRegression()\n",
    "model.fit(X_train, y_train)"
   ]
  },
  {
   "cell_type": "code",
   "execution_count": 50,
   "id": "698d3b1e-9fbd-4870-ada6-0db0701c7cb4",
   "metadata": {},
   "outputs": [
    {
     "data": {
      "text/plain": [
       "'handTemperature'"
      ]
     },
     "execution_count": 50,
     "metadata": {},
     "output_type": "execute_result"
    }
   ],
   "source": [
    "col"
   ]
  },
  {
   "cell_type": "markdown",
   "id": "49343a48",
   "metadata": {},
   "source": [
    "#6. Заполним пропуски используя линейную регрессию"
   ]
  },
  {
   "cell_type": "code",
   "execution_count": null,
   "id": "bd1fbffc-dfcd-4962-b28d-fd624233011b",
   "metadata": {},
   "outputs": [],
   "source": [
    "df_LinearReg_fill = LinearRegression_fill.linreg_imputer(df1)"
   ]
  },
  {
   "cell_type": "markdown",
   "id": "9f498ee6",
   "metadata": {},
   "source": [
    "#7 Заполним пропуски используя KNNImputer"
   ]
  },
  {
   "cell_type": "code",
   "execution_count": null,
   "id": "86178860",
   "metadata": {},
   "outputs": [],
   "source": [
    "df_KNNImputer_fill = KNNImputer_fill.KNNImputer_fill(df1)"
   ]
  },
  {
   "cell_type": "markdown",
   "id": "88288163",
   "metadata": {},
   "source": [
    "#8 Заполним пропуски используя дерево решений"
   ]
  },
  {
   "cell_type": "code",
   "execution_count": null,
   "id": "f105f13b",
   "metadata": {},
   "outputs": [],
   "source": [
    "df_DecisionTree_fill = DecisionTreeRegressor_fill.DecisionTree_imputer(df1)"
   ]
  },
  {
   "cell_type": "markdown",
   "id": "7accaa18",
   "metadata": {},
   "source": [
    "#9 Заполним пропуски используя случайный лес"
   ]
  },
  {
   "cell_type": "code",
   "execution_count": null,
   "id": "0bf34b70",
   "metadata": {},
   "outputs": [],
   "source": [
    "df_RandomForest_fill = RandomForestRegressor_fill.RandomForest_imputer(df1)"
   ]
  },
  {
   "cell_type": "markdown",
   "id": "bfc13293",
   "metadata": {},
   "source": [
    "#10 Заполним пропуски используя SVM"
   ]
  },
  {
   "cell_type": "code",
   "execution_count": null,
   "id": "cd4d3929",
   "metadata": {},
   "outputs": [],
   "source": [
    "df_SVM_fill = SVR_fill.SVM_imputer(df1)"
   ]
  },
  {
   "cell_type": "markdown",
   "id": "06c5a9b9",
   "metadata": {},
   "source": [
    "#11 Заполним пропуски используя градиентный бустинг - XGboost"
   ]
  },
  {
   "cell_type": "code",
   "execution_count": null,
   "id": "f704287f",
   "metadata": {},
   "outputs": [],
   "source": [
    "df_XGBRegressor_fill = XGBRegressor_fill.XGBRegressor_imputer(df1)"
   ]
  },
  {
   "cell_type": "markdown",
   "id": "80984f7e",
   "metadata": {},
   "source": [
    "#12 Заполним пропуски используя градиентный бустинг - CatBoost"
   ]
  },
  {
   "cell_type": "code",
   "execution_count": null,
   "id": "74a5d225",
   "metadata": {
    "scrolled": true
   },
   "outputs": [],
   "source": [
    "df_CatBoostRegressor_fill = CatBoostRegressor_fill.CatBoostRegressor_imputer(df1)"
   ]
  },
  {
   "cell_type": "markdown",
   "id": "41e8a34e",
   "metadata": {},
   "source": [
    "# 4. Формируем результаты эксперимента"
   ]
  },
  {
   "cell_type": "code",
   "execution_count": null,
   "id": "3df0e4c8",
   "metadata": {},
   "outputs": [],
   "source": [
    "all_methods = [df_mean_fill, df_median_fill, df_min_fill, df_max_fill, df_interpolate_fill, df_LinearReg_fill, df_KNNImputer_fill, df_DecisionTree_fill, df_RandomForest_fill, df_SVM_fill, df_XGBRegressor_fill, df_CatBoostRegressor_fill]\n",
    "df1_result = results_metrics.generate_results_metrics(data, all_methods)\n",
    "df1_result"
   ]
  },
  {
   "cell_type": "code",
   "execution_count": null,
   "id": "c2beb790-7f9c-4732-82c5-4e8e2276a1d0",
   "metadata": {},
   "outputs": [],
   "source": [
    "all_methods = [mean_fill.mean_fill(df15), median_fill.median_fill(df15), min_fill.min_fill(df15), max_fill.max_fill(df15), interpolate_fill.interpolate_fill(df15),\n",
    "              LinearRegression_fill.linreg_imputer(df15), KNNImputer_fill.KNNImputer_fill(df15), DecisionTreeRegressor_fill.DecisionTree_imputer(df15),\n",
    "              RandomForestRegressor_fill.RandomForest_imputer(df15), SVR_fill.SVM_imputer(df15), XGBRegressor_fill.XGBRegressor_imputer(df15), CatBoostRegressor_fill.CatBoostRegressor_imputer(df15)]\n",
    "df15_result = results_metrics.generate_results_metrics(data, all_methods)\n",
    "df15_result"
   ]
  },
  {
   "cell_type": "code",
   "execution_count": null,
   "id": "14271ef5-c214-4181-bcf8-394d08a5df25",
   "metadata": {},
   "outputs": [],
   "source": [
    "all_methods = [mean_fill.mean_fill(df20), median_fill.median_fill(df20), min_fill.min_fill(df20), max_fill.max_fill(df20), interpolate_fill.interpolate_fill(df20), \n",
    "              LinearRegression_fill.linreg_imputer(df20), KNNImputer_fill.KNNImputer_fill(df20), DecisionTreeRegressor_fill.DecisionTree_imputer(df20),\n",
    "              RandomForestRegressor_fill.RandomForest_imputer(df20), SVR_fill.SVM_imputer(df20), XGBRegressor_fill.XGBRegressor_imputer(df20), CatBoostRegressor_fill.CatBoostRegressor_imputer(df20)]\n",
    "df20_result = results_metrics.generate_results_metrics(data, all_methods)\n",
    "df20_result"
   ]
  },
  {
   "cell_type": "code",
   "execution_count": null,
   "id": "480cfbb5-ff58-4fba-af27-96c9b95f4adb",
   "metadata": {},
   "outputs": [],
   "source": [
    "results_metrics_visualization.visualization_results_metrics(df1_result, df15_result, df20_result)"
   ]
  }
 ],
 "metadata": {
  "kernelspec": {
   "display_name": "Python 3 (ipykernel)",
   "language": "python",
   "name": "python3"
  },
  "language_info": {
   "codemirror_mode": {
    "name": "ipython",
    "version": 3
   },
   "file_extension": ".py",
   "mimetype": "text/x-python",
   "name": "python",
   "nbconvert_exporter": "python",
   "pygments_lexer": "ipython3",
   "version": "3.9.13"
  }
 },
 "nbformat": 4,
 "nbformat_minor": 5
}
